{
 "cells": [
  {
   "cell_type": "code",
   "execution_count": 1,
   "metadata": {},
   "outputs": [],
   "source": [
    "from pyspark.sql import SparkSession\n",
    "\n",
    "# (8 cores, 16gb per machine) x 5 = 40 cores\n",
    "\n",
    "# New API\n",
    "spark_session = SparkSession\\\n",
    "        .builder\\\n",
    "        .master(\"spark://192.168.1.153:7077\") \\\n",
    "        .appName(\"A2\")\\\n",
    "        .config(\"spark.dynamicAllocation.enabled\", True)\\\n",
    "        .config(\"spark.shuffle.service.enabled\", True)\\\n",
    "        .config(\"spark.dynamicAllocation.executorIdleTimeout\",\"30s\")\\\n",
    "        .config(\"spark.executor.cores\",4)\\\n",
    "        .getOrCreate()\n",
    "\n",
    "# Old API (RDD)\n",
    "spark_context = spark_session.sparkContext"
   ]
  },
  {
   "cell_type": "code",
   "execution_count": 2,
   "metadata": {
    "scrolled": true
   },
   "outputs": [],
   "source": [
    "\n",
    "#Import documents in English and Swedish: \n",
    "europarl_en= spark_context.textFile(\"hdfs://192.168.1.153:9000/europarl/europarl-v7.sv-en.en\")\n",
    "europarl_sv= spark_context.textFile(\"hdfs://192.168.1.153:9000/europarl/europarl-v7.sv-en.sv\")\n"
   ]
  },
  {
   "cell_type": "code",
   "execution_count": 3,
   "metadata": {},
   "outputs": [
    {
     "name": "stdout",
     "output_type": "stream",
     "text": [
      "Number of lines in English: 1862234\n",
      "Number of lines in Swedish: 1862234\n",
      "Partitions English: 2 Partitions Swedish: 3\n"
     ]
    }
   ],
   "source": [
    "#Question A.1 \n",
    "\n",
    "#Function to split the text into lines.\n",
    "def split_line(line):\n",
    "    return line.split()\n",
    "\n",
    "#Splitting the both text into lines.\n",
    "lines_splitted_en = europarl_en.map(split_line);\n",
    "lines_splitted_sv = europarl_sv.map(split_line);\n",
    "\n",
    "#Counting the number of lines and partitions of each text.\n",
    "number_of_lines_en=lines_splitted_en.count();\n",
    "number_of_lines_sv=lines_splitted_sv.count();\n",
    "partitions_en=europarl_en.getNumPartitions();\n",
    "partitions_sv=europarl_sv.getNumPartitions();\n",
    "\n",
    "\n",
    "print(\"Number of lines in English:\",number_of_lines_en)\n",
    "print(\"Number of lines in Swedish:\",number_of_lines_sv)\n",
    "print(\"Partitions English:\",partitions_en,\"Partitions Swedish:\",partitions_sv)"
   ]
  },
  {
   "cell_type": "code",
   "execution_count": 9,
   "metadata": {},
   "outputs": [
    {
     "name": "stdout",
     "output_type": "stream",
     "text": [
      "Lower case in English: [['resumption', 'of', 'the', 'session'], ['i', 'declare', 'resumed', 'the', 'session', 'of', 'the', 'european', 'parliament', 'adjourned', 'on', 'friday', '17', 'december', '1999,', 'and', 'i', 'would', 'like', 'once', 'again', 'to', 'wish', 'you', 'a', 'happy', 'new', 'year', 'in', 'the', 'hope', 'that', 'you', 'enjoyed', 'a', 'pleasant', 'festive', 'period.'], ['although,', 'as', 'you', 'will', 'have', 'seen,', 'the', 'dreaded', \"'millennium\", \"bug'\", 'failed', 'to', 'materialise,', 'still', 'the', 'people', 'in', 'a', 'number', 'of', 'countries', 'suffered', 'a', 'series', 'of', 'natural', 'disasters', 'that', 'truly', 'were', 'dreadful.'], ['you', 'have', 'requested', 'a', 'debate', 'on', 'this', 'subject', 'in', 'the', 'course', 'of', 'the', 'next', 'few', 'days,', 'during', 'this', 'part-session.'], ['in', 'the', 'meantime,', 'i', 'should', 'like', 'to', 'observe', 'a', \"minute'\", 's', 'silence,', 'as', 'a', 'number', 'of', 'members', 'have', 'requested,', 'on', 'behalf', 'of', 'all', 'the', 'victims', 'concerned,', 'particularly', 'those', 'of', 'the', 'terrible', 'storms,', 'in', 'the', 'various', 'countries', 'of', 'the', 'european', 'union.'], ['please', 'rise,', 'then,', 'for', 'this', \"minute'\", 's', 'silence.'], ['(the', 'house', 'rose', 'and', 'observed', 'a', \"minute'\", 's', 'silence)'], ['madam', 'president,', 'on', 'a', 'point', 'of', 'order.'], ['you', 'will', 'be', 'aware', 'from', 'the', 'press', 'and', 'television', 'that', 'there', 'have', 'been', 'a', 'number', 'of', 'bomb', 'explosions', 'and', 'killings', 'in', 'sri', 'lanka.'], ['one', 'of', 'the', 'people', 'assassinated', 'very', 'recently', 'in', 'sri', 'lanka', 'was', 'mr', 'kumar', 'ponnambalam,', 'who', 'had', 'visited', 'the', 'european', 'parliament', 'just', 'a', 'few', 'months', 'ago.']]\n",
      "Lower case in Swedish: [['återupptagande', 'av', 'sessionen'], ['jag', 'förklarar', 'europaparlamentets', 'session', 'återupptagen', 'efter', 'avbrottet', 'den', '17', 'december.', 'jag', 'vill', 'på', 'nytt', 'önska', 'er', 'ett', 'gott', 'nytt', 'år', 'och', 'jag', 'hoppas', 'att', 'ni', 'haft', 'en', 'trevlig', 'semester.'], ['som', 'ni', 'kunnat', 'konstatera', 'ägde', '\"den', 'stora', 'år', '2000-buggen\"', 'aldrig', 'rum.', 'däremot', 'har', 'invånarna', 'i', 'ett', 'antal', 'av', 'våra', 'medlemsländer', 'drabbats', 'av', 'naturkatastrofer', 'som', 'verkligen', 'varit', 'förskräckliga.'], ['ni', 'har', 'begärt', 'en', 'debatt', 'i', 'ämnet', 'under', 'sammanträdesperiodens', 'kommande', 'dagar.'], ['till', 'dess', 'vill', 'jag', 'att', 'vi,', 'som', 'ett', 'antal', 'kolleger', 'begärt,', 'håller', 'en', 'tyst', 'minut', 'för', 'offren', 'för', 'bl.a.', 'stormarna', 'i', 'de', 'länder', 'i', 'europeiska', 'unionen', 'som', 'drabbats.'], ['jag', 'ber', 'er', 'resa', 'er', 'för', 'en', 'tyst', 'minut.'], ['(parlamentet', 'höll', 'en', 'tyst', 'minut.)'], ['fru', 'talman!', 'det', 'gäller', 'en', 'ordningsfråga.'], ['ni', 'känner', 'till', 'från', 'media', 'att', 'det', 'skett', 'en', 'rad', 'bombexplosioner', 'och', 'mord', 'i', 'sri', 'lanka.'], ['en', 'av', 'de', 'personer', 'som', 'mycket', 'nyligen', 'mördades', 'i', 'sri', 'lanka', 'var', 'kumar', 'ponnambalam,', 'som', 'besökte', 'europaparlamentet', 'för', 'bara', 'några', 'månader', 'sedan.']]\n",
      "Number of lines in English: 1862234\n",
      "Number of lines in Swedish: 1862234\n"
     ]
    }
   ],
   "source": [
    "#Question A.2\n",
    "\n",
    "#Function that converts the text into lower cases and split it by lines.\n",
    "def Func(lines):\n",
    "      lines = lines.lower()\n",
    "      lines = lines.split(' ')\n",
    "      return lines\n",
    "    \n",
    "rdd_en = europarl_en.map(Func)\n",
    "rdd_sv = europarl_sv.map(Func)\n",
    "\n",
    "#Verify number of lines.\n",
    "test_number_of_lines_en=rdd_en.count();\n",
    "test_number_of_lines_sv=rdd_sv.count();\n",
    "\n",
    "#Verify number of lines and inspecto 10 entries from each RDD.\n",
    "test_lower_case_en=rdd_en.take(10)\n",
    "test_lower_case_sv=rdd_sv.take(10)\n",
    "\n",
    "print(\"Lower case in English:\",test_lower_case_en)\n",
    "print(\"Lower case in Swedish:\",test_lower_case_sv)\n",
    "print(\"Number of lines in English:\",test_number_of_lines_en)\n",
    "print(\"Number of lines in Swedish:\",test_number_of_lines_sv)\n"
   ]
  },
  {
   "cell_type": "code",
   "execution_count": 10,
   "metadata": {},
   "outputs": [
    {
     "name": "stdout",
     "output_type": "stream",
     "text": [
      "10 Most frequent Words in English: [(3498375, 'the'), (1659758, 'of'), (1539760, 'to'), (1288401, 'and'), (1085993, 'in'), (797516, 'that'), (773522, 'a'), (758050, 'is'), (534242, 'for'), (522849, 'we')]\n",
      "10 Most frequent Words in Swedish: [(1706293, 'att'), (1344830, 'och'), (1050774, 'i'), (924866, 'det'), (913276, 'som'), (908680, 'för'), (738068, 'av'), (694381, 'är'), (620310, 'en'), (539797, 'vi')]\n"
     ]
    }
   ],
   "source": [
    "#Question A.3\n",
    "\n",
    "#3.1 10 Most frequent Words in English\n",
    "words_en = rdd_en.flatMap(lambda x:x)\n",
    "words_en = words_en.map(lambda x: (x,1))\\\n",
    ".reduceByKey(lambda x,y: x + y)\\\n",
    ".map(lambda x:(x[1],x[0]))\\\n",
    ".sortByKey(False)\n",
    "\n",
    "print (\"10 Most frequent Words in English:\",words_en.take(10))\n",
    "\n",
    "#3.1 10 Most frequent Words in Swedish\n",
    "words_sv = rdd_sv.flatMap(lambda x:x)\n",
    "words_sv = words_sv.map(lambda x: (x,1))\\\n",
    ".reduceByKey(lambda x,y: x + y)\\\n",
    ".map(lambda x:(x[1],x[0]))\\\n",
    ".sortByKey(False)\n",
    "\n",
    "print (\"10 Most frequent Words in Swedish:\",words_sv.take(10))\n",
    "\n"
   ]
  },
  {
   "cell_type": "code",
   "execution_count": 11,
   "metadata": {},
   "outputs": [],
   "source": [
    "#Question A.4\n",
    "\n",
    "#Keyvalue lines in English\n",
    "lines_en = rdd_en.map(lambda x:x)\\\n",
    ".map(lambda x: (x))\\\n",
    ".zipWithIndex()\\\n",
    ".map(lambda x:(x[1],x[0]))\n",
    "lines_en.take(2);\n",
    "\n",
    "#Keyvalue lines in Swedish\n",
    "lines_sv = rdd_sv.map(lambda x:x)\\\n",
    ".map(lambda x: (x))\\\n",
    ".zipWithIndex()\\\n",
    ".map(lambda x:(x[1],x[0]))\n",
    "lines_sv.take(2);\n",
    "\n"
   ]
  },
  {
   "cell_type": "code",
   "execution_count": 12,
   "metadata": {},
   "outputs": [
    {
     "name": "stdout",
     "output_type": "stream",
     "text": [
      "Number of lines in English: 1862234\n",
      "Number of lines in Swedish: 1862234\n"
     ]
    }
   ],
   "source": [
    "#Testing same number of lines after indexing\n",
    "number_of_lines_en=lines_en.count();\n",
    "number_of_lines_sv=lines_sv.count();\n",
    "\n",
    "print(\"Number of lines in English:\",number_of_lines_en)\n",
    "print(\"Number of lines in Swedish:\",number_of_lines_sv)"
   ]
  },
  {
   "cell_type": "code",
   "execution_count": 13,
   "metadata": {},
   "outputs": [],
   "source": [
    "#Join the two RDDs together according to the line number key\n",
    "\n",
    "inner_join = lines_en.join(lines_sv)\n",
    "rdd_out = inner_join.sortBy(lambda x:x[0])\n",
    "\n",
    "#Filter: exclude line pairs that have an empty,only pairs of sentences with max 15 words and same number of words.\n",
    "\n",
    "rdd_filter=rdd_out.filter(lambda x: len(x[1][0]) < 15)\\\n",
    ".filter(lambda x: len(x[1][0]) == len(x[1][1]))\\\n",
    ".sortBy(lambda x:x[0])\n",
    "\n",
    "pair_words = rdd_filter.map(lambda x:x[1])\n"
   ]
  },
  {
   "cell_type": "code",
   "execution_count": 20,
   "metadata": {},
   "outputs": [
    {
     "data": {
      "text/plain": [
       "[(['it',\n",
       "   'says',\n",
       "   'that',\n",
       "   'this',\n",
       "   'should',\n",
       "   'be',\n",
       "   'done',\n",
       "   'despite',\n",
       "   'the',\n",
       "   'principle',\n",
       "   'of',\n",
       "   'relative',\n",
       "   'stability.'],\n",
       "  ['i',\n",
       "   'betänkandet',\n",
       "   'står',\n",
       "   'det',\n",
       "   'att',\n",
       "   'detta',\n",
       "   'bör',\n",
       "   'göras',\n",
       "   'trots',\n",
       "   'principen',\n",
       "   'om',\n",
       "   'relativ',\n",
       "   'stabilitet.'])]"
      ]
     },
     "execution_count": 20,
     "metadata": {},
     "output_type": "execute_result"
    }
   ],
   "source": [
    "#Test filters \n",
    "pair_words.take(1)"
   ]
  },
  {
   "cell_type": "code",
   "execution_count": 16,
   "metadata": {},
   "outputs": [],
   "source": [
    "#Map each pair word in the two sentences\n",
    "\n",
    "def pair(words):\n",
    "    for i in range(len(words[0])):\n",
    "        words_list = list(zip(words[1],words[0]))\n",
    "    return words_list\n",
    "\n",
    "pair_words_en= pair_words.flatMap(lambda a: pair(a))\n"
   ]
  },
  {
   "cell_type": "code",
   "execution_count": 21,
   "metadata": {
    "scrolled": false
   },
   "outputs": [
    {
     "data": {
      "text/plain": [
       "[('i', 'it'),\n",
       " ('betänkandet', 'says'),\n",
       " ('står', 'that'),\n",
       " ('det', 'this'),\n",
       " ('att', 'should')]"
      ]
     },
     "execution_count": 21,
     "metadata": {},
     "output_type": "execute_result"
    }
   ],
   "source": [
    "#Test function for pairing words.\n",
    "pair_words_en.take(5)"
   ]
  },
  {
   "cell_type": "code",
   "execution_count": 18,
   "metadata": {},
   "outputs": [],
   "source": [
    "#Reduce pairing words Swedish-English.\n",
    "pair_words_most = pair_words_en.map(lambda x: (x,1))\\\n",
    ".reduceByKey(lambda x,y: x + y)\\\n",
    ".map(lambda x:(x[1],x[0]))\\\n",
    ".sortByKey(False)\n"
   ]
  },
  {
   "cell_type": "code",
   "execution_count": 19,
   "metadata": {},
   "outputs": [
    {
     "name": "stdout",
     "output_type": "stream",
     "text": [
      "10 Most frequent Words in Swedish-English: [(15364, ('är', 'is')), (10875, ('vi', 'we')), (10416, ('jag', 'i')), (8503, ('och', 'and')), (5960, ('en', 'a')), (5762, ('det', 'it')), (5682, ('detta', 'this')), (5279, ('i', 'in')), (4856, ('inte', 'not')), (4288, ('att', 'to'))]\n"
     ]
    }
   ],
   "source": [
    "print (\"10 Most frequent Words in Swedish-English:\",pair_words_most.take(10))"
   ]
  },
  {
   "cell_type": "code",
   "execution_count": 24,
   "metadata": {},
   "outputs": [],
   "source": [
    "spark_context.stop()"
   ]
  }
 ],
 "metadata": {
  "kernelspec": {
   "display_name": "Python 3",
   "language": "python",
   "name": "python3"
  },
  "language_info": {
   "codemirror_mode": {
    "name": "ipython",
    "version": 3
   },
   "file_extension": ".py",
   "mimetype": "text/x-python",
   "name": "python",
   "nbconvert_exporter": "python",
   "pygments_lexer": "ipython3",
   "version": "3.6.7"
  }
 },
 "nbformat": 4,
 "nbformat_minor": 2
}
