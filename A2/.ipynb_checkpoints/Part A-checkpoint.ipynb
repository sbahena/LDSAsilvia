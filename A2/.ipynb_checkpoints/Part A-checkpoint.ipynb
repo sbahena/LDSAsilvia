{
 "cells": [
  {
   "cell_type": "code",
   "execution_count": 4,
   "metadata": {},
   "outputs": [],
   "source": [
    "from pyspark.sql import SparkSession\n",
    "\n",
    "# (8 cores, 16gb per machine) x 5 = 40 cores\n",
    "\n",
    "# New API\n",
    "spark_session = SparkSession\\\n",
    "        .builder\\\n",
    "        .master(\"spark://192.168.1.153:7077\") \\\n",
    "        .appName(\"A2\")\\\n",
    "        .config(\"spark.dynamicAllocation.enabled\", True)\\\n",
    "        .config(\"spark.shuffle.service.enabled\", True)\\\n",
    "        .config(\"spark.dynamicAllocation.executorIdleTimeout\",\"30s\")\\\n",
    "        .config(\"spark.executor.cores\",4)\\\n",
    "        .getOrCreate()\n",
    "\n",
    "# Old API (RDD)\n",
    "spark_context = spark_session.sparkContext"
   ]
  },
  {
   "cell_type": "code",
   "execution_count": 15,
   "metadata": {
    "scrolled": true
   },
   "outputs": [
    {
     "name": "stdout",
     "output_type": "stream",
     "text": [
      "Resumption of the session\n",
      "Återupptagande av sessionen\n",
      "['Resumption', 'of', 'the', 'session', 'I', 'declare', 'resumed', 'the', 'session', 'of']\n",
      "['Återupptagande', 'av', 'sessionen', 'Jag', 'förklarar', 'Europaparlamentets', 'session', 'återupptagen', 'efter', 'avbrottet']\n"
     ]
    }
   ],
   "source": [
    "\n",
    "def split_line(line):\n",
    "    return line.split(' ')\n",
    "\n",
    "#Import documents in English and Swedish: \n",
    "europarl_en= spark_context.textFile(\"hdfs://192.168.1.153:9000/europarl/europarl-v7.sv-en.en\")\n",
    "europarl_sv= spark_context.textFile(\"hdfs://192.168.1.153:9000/europarl/europarl-v7.sv-en.sv\")\n",
    "\n"
   ]
  },
  {
   "cell_type": "code",
   "execution_count": 18,
   "metadata": {},
   "outputs": [
    {
     "name": "stdout",
     "output_type": "stream",
     "text": [
      "Number of lines in English: 45778381\n",
      "Number of lines in Swedish: 41604741\n"
     ]
    }
   ],
   "source": [
    "number_of_lines_en=lines_splitted_en.count();\n",
    "number_of_lines_sv=lines_splitted_sv.count();\n",
    "\n",
    "print(\"Number of lines in English:\",number_of_lines_en)\n",
    "print(\"Number of lines in Swedish:\",number_of_lines_sv)"
   ]
  },
  {
   "cell_type": "code",
   "execution_count": 22,
   "metadata": {},
   "outputs": [
    {
     "name": "stdout",
     "output_type": "stream",
     "text": [
      "2 3\n"
     ]
    }
   ],
   "source": [
    "partitions_en=europarl_en.getNumPartitions()\n",
    "partitions_sv=europarl_sv.getNumPartitions()\n",
    "print(partitions_en,partitions_sv)"
   ]
  },
  {
   "cell_type": "code",
   "execution_count": null,
   "metadata": {},
   "outputs": [],
   "source": [
    "\n",
    "print(europarl_en.first())\n",
    "print(europarl_sv.first())\n",
    "lines_splitted_en = europarl_en.flatMap(split_line);\n",
    "lines_splitted_sv = europarl_sv.flatMap(split_line);\n",
    "print(lines_splitted_en.take(10));\n",
    "print(lines_splitted_sv.take(10));"
   ]
  },
  {
   "cell_type": "code",
   "execution_count": null,
   "metadata": {},
   "outputs": [],
   "source": [
    "spark_context.stop()"
   ]
  }
 ],
 "metadata": {
  "kernelspec": {
   "display_name": "Python 3",
   "language": "python",
   "name": "python3"
  },
  "language_info": {
   "codemirror_mode": {
    "name": "ipython",
    "version": 3
   },
   "file_extension": ".py",
   "mimetype": "text/x-python",
   "name": "python",
   "nbconvert_exporter": "python",
   "pygments_lexer": "ipython3",
   "version": "3.6.7"
  }
 },
 "nbformat": 4,
 "nbformat_minor": 2
}
