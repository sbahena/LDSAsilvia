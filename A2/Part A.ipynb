{
 "cells": [
  {
   "cell_type": "code",
   "execution_count": 2,
   "metadata": {},
   "outputs": [],
   "source": [
    "from pyspark.sql import SparkSession\n",
    "\n",
    "# (8 cores, 16gb per machine) x 5 = 40 cores\n",
    "\n",
    "# New API\n",
    "spark_session = SparkSession\\\n",
    "        .builder\\\n",
    "        .master(\"spark://192.168.1.153:7077\") \\\n",
    "        .appName(\"A2\")\\\n",
    "        .config(\"spark.dynamicAllocation.enabled\", True)\\\n",
    "        .config(\"spark.shuffle.service.enabled\", True)\\\n",
    "        .config(\"spark.dynamicAllocation.executorIdleTimeout\",\"30s\")\\\n",
    "        .config(\"spark.executor.cores\",4)\\\n",
    "        .getOrCreate()\n",
    "\n",
    "# Old API (RDD)\n",
    "spark_context = spark_session.sparkContext"
   ]
  },
  {
   "cell_type": "code",
   "execution_count": 3,
   "metadata": {
    "scrolled": true
   },
   "outputs": [],
   "source": [
    "\n",
    "#Import documents in English and Swedish: \n",
    "europarl_en= spark_context.textFile(\"hdfs://192.168.1.153:9000/europarl/europarl-v7.sv-en.en\")\n",
    "europarl_sv= spark_context.textFile(\"hdfs://192.168.1.153:9000/europarl/europarl-v7.sv-en.sv\")\n"
   ]
  },
  {
   "cell_type": "code",
   "execution_count": 4,
   "metadata": {},
   "outputs": [
    {
     "name": "stdout",
     "output_type": "stream",
     "text": [
      "Number of lines in English: 1862234\n",
      "Number of lines in Swedish: 1862234\n",
      "Partitions English: 2 Partitions Swedish: 3\n"
     ]
    }
   ],
   "source": [
    "#Question A.1 \n",
    "\n",
    "#Function to split the text into lines.\n",
    "def split_line(line):\n",
    "    return line.split()\n",
    "\n",
    "#Splitting the both text into lines.\n",
    "lines_splitted_en = europarl_en.map(split_line);\n",
    "lines_splitted_sv = europarl_sv.map(split_line);\n",
    "\n",
    "#Counting the number of lines and partitions of each text.\n",
    "number_of_lines_en=lines_splitted_en.count();\n",
    "number_of_lines_sv=lines_splitted_sv.count();\n",
    "partitions_en=europarl_en.getNumPartitions();\n",
    "partitions_sv=europarl_sv.getNumPartitions();\n",
    "\n",
    "\n",
    "print(\"Number of lines in English:\",number_of_lines_en)\n",
    "print(\"Number of lines in Swedish:\",number_of_lines_sv)\n",
    "print(\"Partitions English:\",partitions_en,\"Partitions Swedish:\",partitions_sv)"
   ]
  },
  {
   "cell_type": "code",
   "execution_count": 5,
   "metadata": {},
   "outputs": [],
   "source": [
    "#Question A.2\n",
    "\n",
    "#Function that converts the text into lower cases and split it by lines.\n",
    "def Func(lines):\n",
    "      lines = lines.lower()\n",
    "      lines = lines.split(' ')\n",
    "      return lines\n",
    "rdd_en = europarl_en.map(Func)\n",
    "rdd_sv = europarl_sv.map(Func)\n",
    "\n",
    "#Verify number of lines.\n",
    "test_number_of_lines_en=rdd_en.count();\n",
    "test_number_of_lines_sv=rdd_sv.count();\n",
    "\n",
    "#Verify number of lines and inspecto 10 entries from each RDD.\n",
    "test_lowercase_en=rdd_en.take(10);\n",
    "test_lowecase_sv=rdd_sv.take(10);\n",
    "\n",
    "print(\"Number of lines in English:\",test_number_of_lines_en)\n",
    "print(\"Number of lines in Swedish:\",test_number_of_lines_sv)\n"
   ]
  },
  {
   "cell_type": "code",
   "execution_count": 25,
   "metadata": {},
   "outputs": [
    {
     "name": "stdout",
     "output_type": "stream",
     "text": [
      "10 Most frequent Words in English: [(3498375, 'the'), (1659758, 'of'), (1539760, 'to'), (1288401, 'and'), (1085993, 'in'), (797516, 'that'), (773522, 'a'), (758050, 'is'), (534242, 'for'), (522849, 'we')]\n",
      "10 Most frequent Words in Swedish: [(1706293, 'att'), (1344830, 'och'), (1050774, 'i'), (924866, 'det'), (913276, 'som'), (908680, 'för'), (738068, 'av'), (694381, 'är'), (620310, 'en'), (539797, 'vi')]\n"
     ]
    }
   ],
   "source": [
    "#Question A.3\n",
    "\n",
    "#3.1 10 Most frequent Words in English\n",
    "words_en = rdd_en.flatMap(lambda x:x)\n",
    "words_en = words_en.map(lambda x: (x,1))\\\n",
    ".reduceByKey(lambda x,y: x + y)\\\n",
    ".map(lambda x:(x[1],x[0]))\\\n",
    ".sortByKey(False).take(10)\n",
    "\n",
    "print (\"10 Most frequent Words in English:\",words_en)\n",
    "\n",
    "#3.1 10 Most frequent Words in Swedish\n",
    "words_sv = rdd_sv.flatMap(lambda x:x)\n",
    "words_sv = words_sv.map(lambda x: (x,1))\\\n",
    ".reduceByKey(lambda x,y: x + y)\\\n",
    ".map(lambda x:(x[1],x[0]))\\\n",
    ".sortByKey(False).take(10)\n",
    "\n",
    "print (\"10 Most frequent Words in Swedish:\",words_sv)\n",
    "\n"
   ]
  },
  {
   "cell_type": "code",
   "execution_count": null,
   "metadata": {},
   "outputs": [],
   "source": [
    "#Question A.4"
   ]
  },
  {
   "cell_type": "code",
   "execution_count": null,
   "metadata": {},
   "outputs": [],
   "source": [
    "spark_context.stop()"
   ]
  }
 ],
 "metadata": {
  "kernelspec": {
   "display_name": "Python 3",
   "language": "python",
   "name": "python3"
  },
  "language_info": {
   "codemirror_mode": {
    "name": "ipython",
    "version": 3
   },
   "file_extension": ".py",
   "mimetype": "text/x-python",
   "name": "python",
   "nbconvert_exporter": "python",
   "pygments_lexer": "ipython3",
   "version": "3.6.7"
  }
 },
 "nbformat": 4,
 "nbformat_minor": 2
}
